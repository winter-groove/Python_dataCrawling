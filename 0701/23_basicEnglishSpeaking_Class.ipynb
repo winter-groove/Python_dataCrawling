{
 "cells": [
  {
   "cell_type": "code",
   "execution_count": 1,
   "id": "6e5546f2",
   "metadata": {},
   "outputs": [],
   "source": [
    "import warnings\n",
    "warnings.filterwarnings(action='ignore')\n",
    "import requests\n",
    "from bs4 import BeautifulSoup\n",
    "import time"
   ]
  },
  {
   "cell_type": "code",
   "execution_count": 2,
   "id": "b26339eb",
   "metadata": {},
   "outputs": [],
   "source": [
    "# 1건의 대화 정보를 저장하는 클래스\n",
    "class Conversation:\n",
    "    def __init__(self, question, answer):\n",
    "        self.question = question\n",
    "        self.answer = answer\n",
    "    def __str__(self):\n",
    "        return '질문: {}\\n답변: {}'.format(self.question, self.answer)"
   ]
  },
  {
   "cell_type": "code",
   "execution_count": 3,
   "id": "aa00b701",
   "metadata": {},
   "outputs": [
    {
     "name": "stdout",
     "output_type": "stream",
     "text": [
      "질문: 너... 누구야??\n",
      "답변: 알아서 뭐하시려고...\n"
     ]
    }
   ],
   "source": [
    "c = Conversation('너... 누구야??', '알아서 뭐하시려고...')\n",
    "print(c)"
   ]
  },
  {
   "cell_type": "code",
   "execution_count": 4,
   "id": "f876b14a",
   "metadata": {},
   "outputs": [],
   "source": [
    "# 75개의 대화 주제와 세부 대화 내용의 url을 크롤링해서 리턴하는 함수\n",
    "def getSubject():\n",
    "    targetSite = 'https://basicenglishspeaking.com/daily-english-conversation-topics/'\n",
    "    request = requests.get(targetSite)\n",
    "    html = request.text\n",
    "    soup = BeautifulSoup(html, 'html.parser')\n",
    "\n",
    "    subjects = []\n",
    "    contentLink = [] # 세부 대화 내용의 url을 저장할 빈 리스트를 만든다.\n",
    "    divs = soup.findAll('div', {'class': 'tcb-col'})\n",
    "\n",
    "    for div in divs:\n",
    "        chapter = div.findAll('a')\n",
    "        for a in chapter:\n",
    "            subjects.append(a.text)\n",
    "            contentLink.append(a.get('href'))\n",
    "    \n",
    "    # 대화 주제와 대화 주제에 따른 세부 대화 내용의 url을 리턴시킨다.\n",
    "    # 리턴되는 데이터는 2개가 아니라 subjects, contentLink를 튜플 1개로 리턴시킨다.\n",
    "    return subjects, contentLink"
   ]
  },
  {
   "cell_type": "code",
   "execution_count": 5,
   "id": "287d612d",
   "metadata": {
    "scrolled": false
   },
   "outputs": [
    {
     "ename": "NameError",
     "evalue": "name 'answer' is not defined",
     "output_type": "error",
     "traceback": [
      "\u001b[1;31m---------------------------------------------------------------------------\u001b[0m",
      "\u001b[1;31mNameError\u001b[0m                                 Traceback (most recent call last)",
      "\u001b[1;32m<ipython-input-5-1e4ea3a7ac93>\u001b[0m in \u001b[0;36m<module>\u001b[1;34m\u001b[0m\n\u001b[0;32m     46\u001b[0m \u001b[1;33m\u001b[0m\u001b[0m\n\u001b[0;32m     47\u001b[0m         \u001b[1;31m# 질문과 답변이 한 쌍이 되었으므로 Conversation 클래스 객체를 생성하고 질문과 답변을 저장한다.\u001b[0m\u001b[1;33m\u001b[0m\u001b[1;33m\u001b[0m\u001b[1;33m\u001b[0m\u001b[0m\n\u001b[1;32m---> 48\u001b[1;33m         \u001b[0mc\u001b[0m \u001b[1;33m=\u001b[0m \u001b[0mConversation\u001b[0m\u001b[1;33m(\u001b[0m\u001b[0mquestion\u001b[0m\u001b[1;33m,\u001b[0m \u001b[0manswer\u001b[0m\u001b[1;33m)\u001b[0m\u001b[1;33m\u001b[0m\u001b[1;33m\u001b[0m\u001b[0m\n\u001b[0m\u001b[0;32m     49\u001b[0m         \u001b[1;31m# 질문과 답변이 한 쌍으로 저장된 Conversation 클래스 객체를 대화 내용을 기억하는 conversation 리스트에 저장한다.\u001b[0m\u001b[1;33m\u001b[0m\u001b[1;33m\u001b[0m\u001b[1;33m\u001b[0m\u001b[0m\n\u001b[0;32m     50\u001b[0m         \u001b[0mconversation\u001b[0m\u001b[1;33m.\u001b[0m\u001b[0mappend\u001b[0m\u001b[1;33m(\u001b[0m\u001b[0mc\u001b[0m\u001b[1;33m)\u001b[0m\u001b[1;33m\u001b[0m\u001b[1;33m\u001b[0m\u001b[0m\n",
      "\u001b[1;31mNameError\u001b[0m: name 'answer' is not defined"
     ]
    }
   ],
   "source": [
    "subjects, contentLink = getSubject()\n",
    "# for i in range(len(subjects)):\n",
    "    # print('{0:2d}. {1} - {2}'.format(i + 1, subjects[i], contentLink[i]))\n",
    "    \n",
    "# 대화 주제에 따른 모든 대화 내용을 저장할 빈 리스트를 선언한다.\n",
    "conversation = [] # Conversation 클래스 객체를 저장할 리스트, Conversation 클래스 => 질문과 답변이 한 쌍으로 저장된 클래스\n",
    "\n",
    "i = 0 # 대화 주제의 개수를 카운트 하는 변수\n",
    "# 대화 주제의 개수만큼 반복하며 각각의 대화 주제에 따른 대화 내용을 크롤링한다.\n",
    "for s in subjects[:1]:\n",
    "    conversation.append('{0:2d}. {1} - {2}'.format(i + 1, subjects[i], contentLink[i]))\n",
    "    \n",
    "    # 대화 주제별 대화 내용을 크롤링 할 페이지를 요청한다.\n",
    "    request = requests.get(contentLink[i])\n",
    "    \n",
    "    # time 모듈을 import 하면 sleep() 메소드를 사용할 수 있다.\n",
    "    # sleep() 메소드는 인수로 지정한 시간만큼 프로그램을 멈춘다. => 시간은 초 단위로 지정한다.\n",
    "    # 대형 포털 사이트는 짧은 간격으로 많은 요청이 들어오면 자기네 사이트가 공격당하는 것으로 판단할 수 있기 때문에 일정한\n",
    "    # 시간 간격을 두고 정보를 요청하는 것이 좋다.\n",
    "    # 페이지가 로딩되는 시간만큼 기다리기 위해서 일정 시간 간격을 두고 정보를 요청하기도 한다.\n",
    "    time.sleep(1)\n",
    "    \n",
    "    html = request.text\n",
    "    soup = BeautifulSoup(html, 'html.parser')\n",
    "    \n",
    "    # 대화 주제에 따른 세부 대화 내용은 class 속성이 'sc_player_container1'인 div 태그의 다음 형제이다.\n",
    "    divs = soup.findAll('div', {'class': 'sc_player_container1'}) # 플레이 버튼을 찾는다.\n",
    "    # print(len(divs))\n",
    "    \n",
    "    # 대화 주제에 따른 세부 대화 내용의 개수 만큼 반복한다.\n",
    "    for div in divs:\n",
    "        # print(div)\n",
    "        # index(): 인수로 지정된 객체의 index 번호를 얻어온다.\n",
    "        # divs.index(div)\n",
    "        # index() 메소드의 실행 결과가 짝수면 질문이고 홀수면 답변이다.\n",
    "        # print(divs.index(div))\n",
    "    \n",
    "        # 크롤링할 데이터가 태그 내부에 작성된 것이 아니고 class 속성이 'sc_player_container1'인 div 태그의 다음 형제로\n",
    "        # 작성되어 있다.\n",
    "        # next_sibling     => 다음 형제\n",
    "        # previous_sibling => 이전 형제\n",
    "        if divs.index(div) % 2 == 0: # 질문인감?\n",
    "            question = div.next_sibling\n",
    "        else:\n",
    "            answer = div.next_sibling\n",
    "            \n",
    "            # 질문과 답변이 한 쌍이 되었으므로 Conversation 클래스 객체를 생성하고 질문과 답변을 저장한다.\n",
    "            c = Conversation(question, answer)\n",
    "            # 질문과 답변이 한 쌍으로 저장된 Conversation 클래스 객체를 대화 내용을 기억하는 conversation 리스트에 저장한다.\n",
    "            conversation.append(c)\n",
    "    \n",
    "    # 대화 주제 1건의 세부 대화 내용이 크롤링되면 다음 대화를 처리하기 위해 i를 1증가 시킨다.\n",
    "    i += 1"
   ]
  },
  {
   "cell_type": "code",
   "execution_count": null,
   "id": "7be0ac6b",
   "metadata": {},
   "outputs": [],
   "source": [
    "for c in conversation:\n",
    "    print(c)"
   ]
  },
  {
   "cell_type": "code",
   "execution_count": null,
   "id": "6d64194a",
   "metadata": {},
   "outputs": [],
   "source": []
  },
  {
   "cell_type": "code",
   "execution_count": null,
   "id": "2a443dea",
   "metadata": {},
   "outputs": [],
   "source": []
  },
  {
   "cell_type": "code",
   "execution_count": null,
   "id": "d9a06c2a",
   "metadata": {},
   "outputs": [],
   "source": []
  },
  {
   "cell_type": "code",
   "execution_count": null,
   "id": "0c0953bf",
   "metadata": {},
   "outputs": [],
   "source": []
  },
  {
   "cell_type": "code",
   "execution_count": null,
   "id": "04d41cd6",
   "metadata": {},
   "outputs": [],
   "source": []
  }
 ],
 "metadata": {
  "kernelspec": {
   "display_name": "Python 3",
   "language": "python",
   "name": "python3"
  },
  "language_info": {
   "codemirror_mode": {
    "name": "ipython",
    "version": 3
   },
   "file_extension": ".py",
   "mimetype": "text/x-python",
   "name": "python",
   "nbconvert_exporter": "python",
   "pygments_lexer": "ipython3",
   "version": "3.9.5"
  }
 },
 "nbformat": 4,
 "nbformat_minor": 5
}
