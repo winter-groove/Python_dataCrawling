{
 "cells": [
  {
   "cell_type": "code",
   "execution_count": 1,
   "id": "2c01171c",
   "metadata": {},
   "outputs": [],
   "source": [
    "import warnings\n",
    "warnings.filterwarnings(action='ignore')\n",
    "import requests\n",
    "from bs4 import BeautifulSoup\n",
    "from datetime import datetime as dt"
   ]
  },
  {
   "cell_type": "code",
   "execution_count": 2,
   "id": "28e8e335",
   "metadata": {},
   "outputs": [],
   "source": [
    "targetSite = 'https://www.nate.com/'\n",
    "header = {'User-agent': 'Mozilla/5.0 (Windows NT 6.1; WOW64; Trident/7.0; rv:11.0) like Gecko'}"
   ]
  },
  {
   "cell_type": "code",
   "execution_count": 3,
   "id": "1b68d1fa",
   "metadata": {},
   "outputs": [
    {
     "name": "stdout",
     "output_type": "stream",
     "text": [
      "['', '생생정보', 'new', '']\n",
      "['', '벨기에 대사 부인', '동일', '']\n",
      "['', '서울 코로나 심각', '상승4', '']\n",
      "['', '김민혁 코로나 확진', '하락1', '']\n",
      "['', '권민아', '동일', '']\n",
      "================================================================================\n",
      "생생정보 new\n",
      "벨기에 대사 부인 동일\n",
      "서울 코로나 심각 상승4\n",
      "김민혁 코로나 확진 하락1\n",
      "권민아 동일\n",
      "================================================================================\n",
      "생생정보, new\n",
      "벨기에 대사 부인, -\n",
      "서울 코로나 심각, ↑4\n",
      "김민혁 코로나 확진, ↓1\n",
      "권민아, -\n"
     ]
    }
   ],
   "source": [
    "request = requests.get(targetSite, headers=header)\n",
    "# print(request)\n",
    "html = request.text\n",
    "# print(html)\n",
    "soup = BeautifulSoup(html, 'html.parser')\n",
    "# print(soup)\n",
    "\n",
    "# 실시간 이슈 키워드만 크롤링하려면 'class' 속성이 'txt_tank'인 <span> 태그를 얻어오면 된다.\n",
    "# issues = soup.findAll('span', {'class': 'txt_rank'})\n",
    "# for issue in issues:\n",
    "    # print(issue.text)\n",
    "    \n",
    "# 실시간 이슈 키워드와 상승, 하락 포 까지 크롤링하려면 'class'이 'ik'인 <a> 태그를 얻어오면 된다.\n",
    "issues = soup.findAll('a', {'class': 'ik'})\n",
    "# print(len(issues))\n",
    "# print(issues)\n",
    "\n",
    "for issue in issues:\n",
    "    print(issue.text.split('\\n'))\n",
    "print('=' * 80)\n",
    "\n",
    "for issue in issues:\n",
    "    print(issue.text.split('\\n')[1], issue.text.split('\\n')[2])\n",
    "print('=' * 80)\n",
    "\n",
    "for issue in issues:\n",
    "    print(issue.text.split('\\n')[1], end=', ')\n",
    "    upDown = issue.text.split('\\n')[2]\n",
    "    if upDown[:2] == '상승':\n",
    "        print('↑' + upDown[2:])\n",
    "    elif upDown[:2] == '하락':\n",
    "        print('↓' + upDown[2:])\n",
    "    elif upDown[:2] == '동일':\n",
    "        print('-')\n",
    "    else:\n",
    "        print(upDown)"
   ]
  },
  {
   "cell_type": "code",
   "execution_count": null,
   "id": "ca43dc94",
   "metadata": {},
   "outputs": [],
   "source": []
  },
  {
   "cell_type": "code",
   "execution_count": null,
   "id": "7d9a4da5",
   "metadata": {},
   "outputs": [],
   "source": []
  },
  {
   "cell_type": "code",
   "execution_count": null,
   "id": "50d63dcf",
   "metadata": {},
   "outputs": [],
   "source": []
  },
  {
   "cell_type": "code",
   "execution_count": null,
   "id": "9141cd60",
   "metadata": {},
   "outputs": [],
   "source": []
  },
  {
   "cell_type": "code",
   "execution_count": null,
   "id": "d970fdff",
   "metadata": {},
   "outputs": [],
   "source": []
  },
  {
   "cell_type": "code",
   "execution_count": null,
   "id": "10dca323",
   "metadata": {},
   "outputs": [],
   "source": []
  },
  {
   "cell_type": "code",
   "execution_count": null,
   "id": "c388f42e",
   "metadata": {},
   "outputs": [],
   "source": []
  },
  {
   "cell_type": "code",
   "execution_count": null,
   "id": "db5e10a6",
   "metadata": {},
   "outputs": [],
   "source": []
  },
  {
   "cell_type": "code",
   "execution_count": null,
   "id": "2cc053cc",
   "metadata": {},
   "outputs": [],
   "source": []
  },
  {
   "cell_type": "code",
   "execution_count": null,
   "id": "81c0fb9f",
   "metadata": {},
   "outputs": [],
   "source": []
  },
  {
   "cell_type": "code",
   "execution_count": null,
   "id": "48b0db7f",
   "metadata": {},
   "outputs": [],
   "source": []
  }
 ],
 "metadata": {
  "kernelspec": {
   "display_name": "Python 3 (ipykernel)",
   "language": "python",
   "name": "python3"
  },
  "language_info": {
   "codemirror_mode": {
    "name": "ipython",
    "version": 3
   },
   "file_extension": ".py",
   "mimetype": "text/x-python",
   "name": "python",
   "nbconvert_exporter": "python",
   "pygments_lexer": "ipython3",
   "version": "3.9.5"
  }
 },
 "nbformat": 4,
 "nbformat_minor": 5
}
