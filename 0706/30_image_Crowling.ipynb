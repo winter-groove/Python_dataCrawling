{
 "cells": [
  {
   "cell_type": "code",
   "execution_count": 1,
   "id": "ed53e860",
   "metadata": {},
   "outputs": [],
   "source": [
    "import warnings\n",
    "warnings.filterwarnings(action='ignore')\n",
    "import requests"
   ]
  },
  {
   "cell_type": "code",
   "execution_count": 3,
   "id": "e2f311a2",
   "metadata": {},
   "outputs": [],
   "source": [
    "url = 'https://search.pstatic.net/common/?src=http%3A%2F%2Fblogfiles.naver.net%2FMjAyMTAyMDVfOTQg%2FMDAxNjEyNTI1MTY3ODYw.vYaG2F-SPQtRkJt-cxssjdajW5Kk_iRMX8W-i3qN0_Yg.U1Bz3QlN7x6g4xdrIk8LjjByYNSPbR9BcBPLqG1H9TAg.JPEG.yywww4440%2F1612518258379.jpg&type=a340'\n",
    "request = requests.get(url)\n",
    "file = open('jinim.jpg', 'wb')\n",
    "file.write(request.content)\n",
    "file.close()"
   ]
  },
  {
   "cell_type": "code",
   "execution_count": 4,
   "id": "b4708ffc",
   "metadata": {},
   "outputs": [
    {
     "name": "stdout",
     "output_type": "stream",
     "text": [
      "검색어 입력: 강아지\n",
      "크롤링할 갯수 입력(최대 50개): 2\n",
      "Image Crawling is done.\n"
     ]
    }
   ],
   "source": []
  }
 ],
 "metadata": {
  "kernelspec": {
   "display_name": "Python 3 (ipykernel)",
   "language": "python",
   "name": "python3"
  },
  "language_info": {
   "codemirror_mode": {
    "name": "ipython",
    "version": 3
   },
   "file_extension": ".py",
   "mimetype": "text/x-python",
   "name": "python",
   "nbconvert_exporter": "python",
   "pygments_lexer": "ipython3",
   "version": "3.9.5"
  }
 },
 "nbformat": 4,
 "nbformat_minor": 5
}
